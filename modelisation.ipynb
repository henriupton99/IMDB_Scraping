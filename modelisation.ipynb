{
 "cells": [
  {
   "cell_type": "markdown",
   "metadata": {},
   "source": [
    "# Modélisation"
   ]
  },
  {
   "cell_type": "markdown",
   "metadata": {},
   "source": [
    "### 0 - importation des modules "
   ]
  },
  {
   "cell_type": "code",
   "execution_count": 230,
   "metadata": {},
   "outputs": [],
   "source": [
    "# Module pandas pour manipuler le dataframe ensuite constitué :\n",
    "import pandas as pd\n",
    "\n",
    "# Module numpy pour manipuler essentiellement des arrays :\n",
    "import numpy as np\n",
    "import matplotlib.pyplot as plt\n",
    "\n",
    "# Module scikitlearn pour la modélisation : \n",
    "import sklearn"
   ]
  },
  {
   "cell_type": "markdown",
   "metadata": {},
   "source": [
    "On importe notre propre module ***preprocessing_data*** qui regroupe les fonctions qui ont servi pour les étapes de preprocessing :"
   ]
  },
  {
   "cell_type": "code",
   "execution_count": 231,
   "metadata": {},
   "outputs": [],
   "source": [
    "import sys\n",
    "sys.path.append('./modules')\n",
    "from modelisation import preprocessing_data"
   ]
  },
  {
   "cell_type": "code",
   "execution_count": 232,
   "metadata": {},
   "outputs": [
    {
     "name": "stdout",
     "output_type": "stream",
     "text": [
      "The autoreload extension is already loaded. To reload it, use:\n",
      "  %reload_ext autoreload\n"
     ]
    }
   ],
   "source": [
    "%load_ext autoreload\n",
    "%autoreload 2"
   ]
  },
  {
   "cell_type": "markdown",
   "metadata": {},
   "source": [
    "### 1 - Sélection du modèle"
   ]
  },
  {
   "cell_type": "markdown",
   "metadata": {},
   "source": [
    "Avant de se lancer dans les étapes de machine learning, il est important de bien comprendre ce que l'on souhaite prédire, et avec quelles variables, quelles sont les types de toutes ces variables, afin de comprendre quelle sera le modèle le plus adapté à notre jeu de données."
   ]
  },
  {
   "cell_type": "markdown",
   "metadata": {},
   "source": [
    "On peut commencer par importer à nouveau notre jeu de données :"
   ]
  },
  {
   "cell_type": "code",
   "execution_count": 233,
   "metadata": {},
   "outputs": [],
   "source": [
    "df = pd.read_csv(\"data/data_cleaned.csv\", sep = \"\\t\")"
   ]
  },
  {
   "cell_type": "code",
   "execution_count": 234,
   "metadata": {},
   "outputs": [
    {
     "data": {
      "text/plain": [
       "188255"
      ]
     },
     "execution_count": 234,
     "metadata": {},
     "output_type": "execute_result"
    }
   ],
   "source": [
    "len(df)"
   ]
  },
  {
   "cell_type": "code",
   "execution_count": 235,
   "metadata": {},
   "outputs": [
    {
     "data": {
      "text/html": [
       "<div>\n",
       "<style scoped>\n",
       "    .dataframe tbody tr th:only-of-type {\n",
       "        vertical-align: middle;\n",
       "    }\n",
       "\n",
       "    .dataframe tbody tr th {\n",
       "        vertical-align: top;\n",
       "    }\n",
       "\n",
       "    .dataframe thead th {\n",
       "        text-align: right;\n",
       "    }\n",
       "</style>\n",
       "<table border=\"1\" class=\"dataframe\">\n",
       "  <thead>\n",
       "    <tr style=\"text-align: right;\">\n",
       "      <th></th>\n",
       "      <th>tconst</th>\n",
       "      <th>title</th>\n",
       "      <th>year</th>\n",
       "      <th>runtime</th>\n",
       "      <th>genres</th>\n",
       "      <th>rate</th>\n",
       "      <th>votes</th>\n",
       "      <th>director</th>\n",
       "      <th>casting</th>\n",
       "    </tr>\n",
       "  </thead>\n",
       "  <tbody>\n",
       "    <tr>\n",
       "      <th>0</th>\n",
       "      <td>tt13143964</td>\n",
       "      <td>Borat: Subsequent Moviefilm</td>\n",
       "      <td>2020</td>\n",
       "      <td>95</td>\n",
       "      <td>Comedy</td>\n",
       "      <td>7.0</td>\n",
       "      <td>50191</td>\n",
       "      <td>Jason Woliner</td>\n",
       "      <td>['Sacha Baron Cohen', 'Maria Bakalova', 'Tom H...</td>\n",
       "    </tr>\n",
       "    <tr>\n",
       "      <th>1</th>\n",
       "      <td>tt1070874</td>\n",
       "      <td>Les Sept de Chicago</td>\n",
       "      <td>2020</td>\n",
       "      <td>129</td>\n",
       "      <td>Drama, History, Thriller</td>\n",
       "      <td>7.9</td>\n",
       "      <td>37295</td>\n",
       "      <td>Aaron Sorkin</td>\n",
       "      <td>['Eddie Redmayne', 'Alex Sharp', 'Sacha Baron ...</td>\n",
       "    </tr>\n",
       "    <tr>\n",
       "      <th>2</th>\n",
       "      <td>tt2235695</td>\n",
       "      <td>Rebecca</td>\n",
       "      <td>2020</td>\n",
       "      <td>121</td>\n",
       "      <td>Drama, Mystery, Romance</td>\n",
       "      <td>6.0</td>\n",
       "      <td>11829</td>\n",
       "      <td>Ben Wheatley</td>\n",
       "      <td>['Lily James', 'Armie Hammer', 'Kristin Scott ...</td>\n",
       "    </tr>\n",
       "  </tbody>\n",
       "</table>\n",
       "</div>"
      ],
      "text/plain": [
       "       tconst                        title  year  runtime  \\\n",
       "0  tt13143964  Borat: Subsequent Moviefilm  2020       95   \n",
       "1   tt1070874          Les Sept de Chicago  2020      129   \n",
       "2   tt2235695                      Rebecca  2020      121   \n",
       "\n",
       "                                 genres  rate  votes       director  \\\n",
       "0                    Comedy               7.0  50191  Jason Woliner   \n",
       "1  Drama, History, Thriller               7.9  37295   Aaron Sorkin   \n",
       "2   Drama, Mystery, Romance               6.0  11829   Ben Wheatley   \n",
       "\n",
       "                                             casting  \n",
       "0  ['Sacha Baron Cohen', 'Maria Bakalova', 'Tom H...  \n",
       "1  ['Eddie Redmayne', 'Alex Sharp', 'Sacha Baron ...  \n",
       "2  ['Lily James', 'Armie Hammer', 'Kristin Scott ...  "
      ]
     },
     "execution_count": 235,
     "metadata": {},
     "output_type": "execute_result"
    }
   ],
   "source": [
    "df.head(3)"
   ]
  },
  {
   "cell_type": "markdown",
   "metadata": {},
   "source": [
    "Nous souhaitons prédire la note (spectateurs) d'un film : ***rate***. Il s'agit d'une variable quantitative, continue sur le segment [0,10].\n",
    "Pour prédire cette note, nous allons utiliser différentes variables : \n",
    "- ***year*** : l'année de sortie du film (quantitative discrète)\n",
    "- ***runtime*** : la durée du film (quantitative discrète)\n",
    "- ***votes*** : le nombre de votes recensés pour former la note du film\n",
    "- ***genres*** : le genre du film (qualitative)\n",
    "- ***director*** : le réalisateur du film (qualitative)\n",
    "- ***casting*** : les acteurs du film (liste de qualitatives)"
   ]
  },
  {
   "cell_type": "markdown",
   "metadata": {},
   "source": [
    "Critère 1 : Quantité de données\n",
    "Critère 2 : structure des données (ici données structurées)\n",
    "Critère 3 : Variables qualitatives / quantitatives"
   ]
  },
  {
   "cell_type": "markdown",
   "metadata": {},
   "source": [
    "Une regression linéaire semble tout à fait adaptée pour démarrer."
   ]
  },
  {
   "cell_type": "markdown",
   "metadata": {},
   "source": [
    "### 2 - Preprocessing"
   ]
  },
  {
   "cell_type": "markdown",
   "metadata": {},
   "source": [
    "Avant de mettre en oeuvre une modélisation via un modèle de regression linéaire, certaines variables doivent être transformées."
   ]
  },
  {
   "cell_type": "markdown",
   "metadata": {},
   "source": [
    "Plus précisément, nous avons besoin de transformer les variables qualitatives **genres**, **casting**, et **director** en variables quantitatives."
   ]
  },
  {
   "cell_type": "markdown",
   "metadata": {},
   "source": [
    "Pour la variable **genres**, comme vu précédemment il y a seulement 28 genres présents dans la base de données, donc 28 modalités prises par la variable **genres**. Un endodage du type \"***One Hot Encoding***\" fera tout à fait l'affaire."
   ]
  },
  {
   "cell_type": "markdown",
   "metadata": {},
   "source": [
    "(expliquer le principe du One Hot Encoding)"
   ]
  },
  {
   "cell_type": "markdown",
   "metadata": {},
   "source": [
    "#### 2.1 - Transformation de la variable ***genres***"
   ]
  },
  {
   "cell_type": "markdown",
   "metadata": {},
   "source": [
    "(voir la video du mec pour voir comment bien faire)"
   ]
  },
  {
   "cell_type": "markdown",
   "metadata": {},
   "source": [
    "#### 2.2 - Transformation des variables ***director*** et ***casting***"
   ]
  },
  {
   "cell_type": "markdown",
   "metadata": {},
   "source": [
    "Nous voyons que la situation pour ces deux variables n'est pas la même que la pour la variable ***genres***. En effet un encodage du type \"***One Hot Encoding***\" risque d'être totalement inapproprié à la structure de ces deux variables. Plus préciséments, contrairement aux genres, les nombres de réalisateurs et acteurs sont très conséquents."
   ]
  },
  {
   "cell_type": "markdown",
   "metadata": {},
   "source": [
    "Par exemple pour les directeurs, combien y en a t il?"
   ]
  },
  {
   "cell_type": "code",
   "execution_count": 236,
   "metadata": {},
   "outputs": [
    {
     "data": {
      "text/plain": [
       "68373"
      ]
     },
     "execution_count": 236,
     "metadata": {},
     "output_type": "execute_result"
    }
   ],
   "source": [
    "df[\"director\"].nunique()"
   ]
  },
  {
   "cell_type": "markdown",
   "metadata": {},
   "source": [
    "Il y a 68 373 réalisateurs différents dans notre base de données. Le One Hot encoding va ainsi générer une sparse matrix de taille 68373x68373 ! Ce n'est pas adapté."
   ]
  },
  {
   "cell_type": "markdown",
   "metadata": {},
   "source": [
    "Nous avons ainsi trouvé une autre alternative : à partir d'une formule mathématique, nous allons affecter un score aux réalisateurs, basé sur les notes qu'on recues les films qu'ils ont produits et le nombre de films qu'ils ont fait."
   ]
  },
  {
   "cell_type": "markdown",
   "metadata": {},
   "source": [
    "La formule est la suivante : "
   ]
  },
  {
   "cell_type": "markdown",
   "metadata": {},
   "source": [
    "$$\\frac{1}{rank}rate^2$$"
   ]
  },
  {
   "cell_type": "markdown",
   "metadata": {},
   "source": [
    "Avec :"
   ]
  },
  {
   "cell_type": "markdown",
   "metadata": {},
   "source": [
    "- ***rank*** : le classement du film dans la base de données (selon sa note)\n",
    "- ***rate*** : la note du film par les telespectateurs (la variable **rate** de la base de données)"
   ]
  },
  {
   "cell_type": "markdown",
   "metadata": {},
   "source": [
    "Ainsi pour un réalisateur donné, on obtient son score en faisant la somme de tous les scores que ses films lui ont fait obtenir."
   ]
  },
  {
   "cell_type": "markdown",
   "metadata": {},
   "source": [
    "Pour appliquer cette formule il faut bien evidemment calculer la variable rank pour chaque film. "
   ]
  },
  {
   "cell_type": "code",
   "execution_count": 237,
   "metadata": {},
   "outputs": [],
   "source": [
    "df = preprocessing_data.add_ranks_films(df)"
   ]
  },
  {
   "cell_type": "markdown",
   "metadata": {},
   "source": [
    "On vérifie que le rank est bien apparu dans la base, c'est le cas, par exemple on voit que le film \"Rebecca\" est classée 98 476ème (c'est à dire 98 476ème meilleure note) :"
   ]
  },
  {
   "cell_type": "code",
   "execution_count": 238,
   "metadata": {},
   "outputs": [
    {
     "data": {
      "text/html": [
       "<div>\n",
       "<style scoped>\n",
       "    .dataframe tbody tr th:only-of-type {\n",
       "        vertical-align: middle;\n",
       "    }\n",
       "\n",
       "    .dataframe tbody tr th {\n",
       "        vertical-align: top;\n",
       "    }\n",
       "\n",
       "    .dataframe thead th {\n",
       "        text-align: right;\n",
       "    }\n",
       "</style>\n",
       "<table border=\"1\" class=\"dataframe\">\n",
       "  <thead>\n",
       "    <tr style=\"text-align: right;\">\n",
       "      <th></th>\n",
       "      <th>tconst</th>\n",
       "      <th>title</th>\n",
       "      <th>year</th>\n",
       "      <th>runtime</th>\n",
       "      <th>genres</th>\n",
       "      <th>rate</th>\n",
       "      <th>votes</th>\n",
       "      <th>director</th>\n",
       "      <th>casting</th>\n",
       "      <th>index</th>\n",
       "      <th>rank</th>\n",
       "    </tr>\n",
       "  </thead>\n",
       "  <tbody>\n",
       "    <tr>\n",
       "      <th>0</th>\n",
       "      <td>tt13143964</td>\n",
       "      <td>Borat: Subsequent Moviefilm</td>\n",
       "      <td>2020</td>\n",
       "      <td>95</td>\n",
       "      <td>Comedy</td>\n",
       "      <td>7.0</td>\n",
       "      <td>50191</td>\n",
       "      <td>Jason Woliner</td>\n",
       "      <td>['Sacha Baron Cohen', 'Maria Bakalova', 'Tom H...</td>\n",
       "      <td>0</td>\n",
       "      <td>33273.0</td>\n",
       "    </tr>\n",
       "    <tr>\n",
       "      <th>1</th>\n",
       "      <td>tt1070874</td>\n",
       "      <td>Les Sept de Chicago</td>\n",
       "      <td>2020</td>\n",
       "      <td>129</td>\n",
       "      <td>Drama, History, Thriller</td>\n",
       "      <td>7.9</td>\n",
       "      <td>37295</td>\n",
       "      <td>Aaron Sorkin</td>\n",
       "      <td>['Eddie Redmayne', 'Alex Sharp', 'Sacha Baron ...</td>\n",
       "      <td>1</td>\n",
       "      <td>6429.0</td>\n",
       "    </tr>\n",
       "    <tr>\n",
       "      <th>2</th>\n",
       "      <td>tt2235695</td>\n",
       "      <td>Rebecca</td>\n",
       "      <td>2020</td>\n",
       "      <td>121</td>\n",
       "      <td>Drama, Mystery, Romance</td>\n",
       "      <td>6.0</td>\n",
       "      <td>11829</td>\n",
       "      <td>Ben Wheatley</td>\n",
       "      <td>['Lily James', 'Armie Hammer', 'Kristin Scott ...</td>\n",
       "      <td>2</td>\n",
       "      <td>98476.0</td>\n",
       "    </tr>\n",
       "    <tr>\n",
       "      <th>3</th>\n",
       "      <td>tt10682266</td>\n",
       "      <td>Hubie Halloween</td>\n",
       "      <td>2020</td>\n",
       "      <td>102</td>\n",
       "      <td>Comedy, Fantasy, Mystery</td>\n",
       "      <td>5.2</td>\n",
       "      <td>27526</td>\n",
       "      <td>Steven Brill</td>\n",
       "      <td>['Adam Sandler', 'Kevin James', 'Julie Bowen',...</td>\n",
       "      <td>3</td>\n",
       "      <td>140355.0</td>\n",
       "    </tr>\n",
       "    <tr>\n",
       "      <th>4</th>\n",
       "      <td>tt2222042</td>\n",
       "      <td>Love and Monsters</td>\n",
       "      <td>2020</td>\n",
       "      <td>109</td>\n",
       "      <td>Action, Adventure, Comedy</td>\n",
       "      <td>7.1</td>\n",
       "      <td>10780</td>\n",
       "      <td>Michael Matthews</td>\n",
       "      <td>[\"Dylan O'Brien\", 'Jessica Henwick', 'Michael ...</td>\n",
       "      <td>4</td>\n",
       "      <td>28509.0</td>\n",
       "    </tr>\n",
       "  </tbody>\n",
       "</table>\n",
       "</div>"
      ],
      "text/plain": [
       "       tconst                        title  year  runtime  \\\n",
       "0  tt13143964  Borat: Subsequent Moviefilm  2020       95   \n",
       "1   tt1070874          Les Sept de Chicago  2020      129   \n",
       "2   tt2235695                      Rebecca  2020      121   \n",
       "3  tt10682266              Hubie Halloween  2020      102   \n",
       "4   tt2222042            Love and Monsters  2020      109   \n",
       "\n",
       "                                  genres  rate  votes          director  \\\n",
       "0                     Comedy               7.0  50191     Jason Woliner   \n",
       "1   Drama, History, Thriller               7.9  37295      Aaron Sorkin   \n",
       "2    Drama, Mystery, Romance               6.0  11829      Ben Wheatley   \n",
       "3   Comedy, Fantasy, Mystery               5.2  27526      Steven Brill   \n",
       "4  Action, Adventure, Comedy               7.1  10780  Michael Matthews   \n",
       "\n",
       "                                             casting  index      rank  \n",
       "0  ['Sacha Baron Cohen', 'Maria Bakalova', 'Tom H...      0   33273.0  \n",
       "1  ['Eddie Redmayne', 'Alex Sharp', 'Sacha Baron ...      1    6429.0  \n",
       "2  ['Lily James', 'Armie Hammer', 'Kristin Scott ...      2   98476.0  \n",
       "3  ['Adam Sandler', 'Kevin James', 'Julie Bowen',...      3  140355.0  \n",
       "4  [\"Dylan O'Brien\", 'Jessica Henwick', 'Michael ...      4   28509.0  "
      ]
     },
     "execution_count": 238,
     "metadata": {},
     "output_type": "execute_result"
    }
   ],
   "source": [
    "df.head(5)"
   ]
  },
  {
   "cell_type": "markdown",
   "metadata": {},
   "source": [
    "Maintenant qu'on a le rank, on peut calculer le score de chaque réalisateur. C'est ce qui a été implémenté dans la fonction ***add_score_realisateurs*** :"
   ]
  },
  {
   "cell_type": "code",
   "execution_count": 239,
   "metadata": {},
   "outputs": [],
   "source": [
    "df = preprocessing_data.add_scores_realisateurs(df)"
   ]
  },
  {
   "cell_type": "markdown",
   "metadata": {},
   "source": [
    "On peut vérifier que la fonction a bien marché sur la base de données, on retrouve le score_directeur :"
   ]
  },
  {
   "cell_type": "code",
   "execution_count": 240,
   "metadata": {},
   "outputs": [
    {
     "data": {
      "text/html": [
       "<div>\n",
       "<style scoped>\n",
       "    .dataframe tbody tr th:only-of-type {\n",
       "        vertical-align: middle;\n",
       "    }\n",
       "\n",
       "    .dataframe tbody tr th {\n",
       "        vertical-align: top;\n",
       "    }\n",
       "\n",
       "    .dataframe thead th {\n",
       "        text-align: right;\n",
       "    }\n",
       "</style>\n",
       "<table border=\"1\" class=\"dataframe\">\n",
       "  <thead>\n",
       "    <tr style=\"text-align: right;\">\n",
       "      <th></th>\n",
       "      <th>tconst</th>\n",
       "      <th>title</th>\n",
       "      <th>year</th>\n",
       "      <th>runtime</th>\n",
       "      <th>genres</th>\n",
       "      <th>rate</th>\n",
       "      <th>votes</th>\n",
       "      <th>director</th>\n",
       "      <th>casting</th>\n",
       "      <th>index</th>\n",
       "      <th>rank</th>\n",
       "      <th>score_film</th>\n",
       "      <th>score_realisateur</th>\n",
       "    </tr>\n",
       "  </thead>\n",
       "  <tbody>\n",
       "    <tr>\n",
       "      <th>0</th>\n",
       "      <td>tt13143964</td>\n",
       "      <td>Borat: Subsequent Moviefilm</td>\n",
       "      <td>2020</td>\n",
       "      <td>95</td>\n",
       "      <td>Comedy</td>\n",
       "      <td>7.0</td>\n",
       "      <td>50191</td>\n",
       "      <td>Jason Woliner</td>\n",
       "      <td>['Sacha Baron Cohen', 'Maria Bakalova', 'Tom H...</td>\n",
       "      <td>0</td>\n",
       "      <td>33273.0</td>\n",
       "      <td>0.001473</td>\n",
       "      <td>0.001473</td>\n",
       "    </tr>\n",
       "    <tr>\n",
       "      <th>1</th>\n",
       "      <td>tt1070874</td>\n",
       "      <td>Les Sept de Chicago</td>\n",
       "      <td>2020</td>\n",
       "      <td>129</td>\n",
       "      <td>Drama, History, Thriller</td>\n",
       "      <td>7.9</td>\n",
       "      <td>37295</td>\n",
       "      <td>Aaron Sorkin</td>\n",
       "      <td>['Eddie Redmayne', 'Alex Sharp', 'Sacha Baron ...</td>\n",
       "      <td>1</td>\n",
       "      <td>6429.0</td>\n",
       "      <td>0.009708</td>\n",
       "      <td>0.012974</td>\n",
       "    </tr>\n",
       "    <tr>\n",
       "      <th>2</th>\n",
       "      <td>tt4209788</td>\n",
       "      <td>Le grand jeu</td>\n",
       "      <td>2017</td>\n",
       "      <td>140</td>\n",
       "      <td>Biography, Crime, Drama</td>\n",
       "      <td>7.4</td>\n",
       "      <td>136590</td>\n",
       "      <td>Aaron Sorkin</td>\n",
       "      <td>['Jessica Chastain', 'Idris Elba', 'Kevin Cost...</td>\n",
       "      <td>276</td>\n",
       "      <td>16762.0</td>\n",
       "      <td>0.003267</td>\n",
       "      <td>0.012974</td>\n",
       "    </tr>\n",
       "    <tr>\n",
       "      <th>3</th>\n",
       "      <td>tt2235695</td>\n",
       "      <td>Rebecca</td>\n",
       "      <td>2020</td>\n",
       "      <td>121</td>\n",
       "      <td>Drama, Mystery, Romance</td>\n",
       "      <td>6.0</td>\n",
       "      <td>11829</td>\n",
       "      <td>Ben Wheatley</td>\n",
       "      <td>['Lily James', 'Armie Hammer', 'Kristin Scott ...</td>\n",
       "      <td>2</td>\n",
       "      <td>98476.0</td>\n",
       "      <td>0.000366</td>\n",
       "      <td>0.004158</td>\n",
       "    </tr>\n",
       "    <tr>\n",
       "      <th>4</th>\n",
       "      <td>tt0462335</td>\n",
       "      <td>High-Rise</td>\n",
       "      <td>2015</td>\n",
       "      <td>119</td>\n",
       "      <td>Drama, Sci-Fi</td>\n",
       "      <td>5.6</td>\n",
       "      <td>37449</td>\n",
       "      <td>Ben Wheatley</td>\n",
       "      <td>['Tom Hiddleston', 'Jeremy Irons', 'Sienna Mil...</td>\n",
       "      <td>2204</td>\n",
       "      <td>121716.0</td>\n",
       "      <td>0.000258</td>\n",
       "      <td>0.004158</td>\n",
       "    </tr>\n",
       "  </tbody>\n",
       "</table>\n",
       "</div>"
      ],
      "text/plain": [
       "       tconst                        title  year  runtime  \\\n",
       "0  tt13143964  Borat: Subsequent Moviefilm  2020       95   \n",
       "1   tt1070874          Les Sept de Chicago  2020      129   \n",
       "2   tt4209788                 Le grand jeu  2017      140   \n",
       "3   tt2235695                      Rebecca  2020      121   \n",
       "4   tt0462335                    High-Rise  2015      119   \n",
       "\n",
       "                                 genres  rate   votes       director  \\\n",
       "0                    Comedy               7.0   50191  Jason Woliner   \n",
       "1  Drama, History, Thriller               7.9   37295   Aaron Sorkin   \n",
       "2   Biography, Crime, Drama               7.4  136590   Aaron Sorkin   \n",
       "3   Drama, Mystery, Romance               6.0   11829   Ben Wheatley   \n",
       "4             Drama, Sci-Fi               5.6   37449   Ben Wheatley   \n",
       "\n",
       "                                             casting  index      rank  \\\n",
       "0  ['Sacha Baron Cohen', 'Maria Bakalova', 'Tom H...      0   33273.0   \n",
       "1  ['Eddie Redmayne', 'Alex Sharp', 'Sacha Baron ...      1    6429.0   \n",
       "2  ['Jessica Chastain', 'Idris Elba', 'Kevin Cost...    276   16762.0   \n",
       "3  ['Lily James', 'Armie Hammer', 'Kristin Scott ...      2   98476.0   \n",
       "4  ['Tom Hiddleston', 'Jeremy Irons', 'Sienna Mil...   2204  121716.0   \n",
       "\n",
       "   score_film  score_realisateur  \n",
       "0    0.001473           0.001473  \n",
       "1    0.009708           0.012974  \n",
       "2    0.003267           0.012974  \n",
       "3    0.000366           0.004158  \n",
       "4    0.000258           0.004158  "
      ]
     },
     "execution_count": 240,
     "metadata": {},
     "output_type": "execute_result"
    }
   ],
   "source": [
    "df.head(5)"
   ]
  },
  {
   "cell_type": "code",
   "execution_count": null,
   "metadata": {},
   "outputs": [],
   "source": []
  }
 ],
 "metadata": {
  "kernelspec": {
   "display_name": "Python 3",
   "language": "python",
   "name": "python3"
  },
  "language_info": {
   "codemirror_mode": {
    "name": "ipython",
    "version": 3
   },
   "file_extension": ".py",
   "mimetype": "text/x-python",
   "name": "python",
   "nbconvert_exporter": "python",
   "pygments_lexer": "ipython3",
   "version": "3.7.6"
  }
 },
 "nbformat": 4,
 "nbformat_minor": 4
}
