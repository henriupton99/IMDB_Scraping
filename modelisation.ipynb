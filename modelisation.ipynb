{
 "cells": [
  {
   "cell_type": "markdown",
   "metadata": {},
   "source": [
    "# Modélisation"
   ]
  },
  {
   "cell_type": "markdown",
   "metadata": {},
   "source": [
    "### 0 - importation des modules "
   ]
  },
  {
   "cell_type": "code",
   "execution_count": 9,
   "metadata": {},
   "outputs": [],
   "source": [
    "# Module pandas pour manipuler le dataframe ensuite constitué :\n",
    "import pandas as pd\n",
    "\n",
    "# Module numpy pour manipuler essentiellement des arrays :\n",
    "import numpy as np\n",
    "import matplotlib.pyplot as plt\n",
    "\n",
    "# Module scikitlearn pour la modélisation : \n",
    "import sklearn"
   ]
  },
  {
   "cell_type": "markdown",
   "metadata": {},
   "source": [
    "### 1 - Sélection du modèle"
   ]
  },
  {
   "cell_type": "markdown",
   "metadata": {},
   "source": [
    "Avant de se lancer dans les étapes de machine learning, il est important de bien comprendre ce que l'on souhaite prédire, avec quelles variables, quelles sont les types de toutes ces variables, afin de comprendre quelle sera le modèle le plus adapté à notre jeu de données."
   ]
  },
  {
   "cell_type": "markdown",
   "metadata": {},
   "source": [
    "On peut commencer par importer à nouveau notre jeu de données :"
   ]
  },
  {
   "cell_type": "code",
   "execution_count": 21,
   "metadata": {},
   "outputs": [],
   "source": [
    "df = pd.read_csv(\"data/data_cleaned.csv\", sep = \"\\t\")"
   ]
  },
  {
   "cell_type": "code",
   "execution_count": 22,
   "metadata": {},
   "outputs": [
    {
     "data": {
      "text/plain": [
       "188255"
      ]
     },
     "execution_count": 22,
     "metadata": {},
     "output_type": "execute_result"
    }
   ],
   "source": [
    "len(df)"
   ]
  },
  {
   "cell_type": "markdown",
   "metadata": {},
   "source": [
    "Nous souhaitons prédire la note (spectateurs) d'un film : il s'agit d'une variable cardinale, continue sur le segment [0,10].\n",
    "Pour prédire cette note, nous allons utiliser différentes variables : \n",
    "- l'année de sortie du film (cardinale discrète)\n",
    "- la durée du film (cardinale discrète)\n",
    "- le genre du film (qualitative)\n",
    "- le réalisateur (qualitative)\n",
    "- (ajouter les autres)"
   ]
  },
  {
   "cell_type": "markdown",
   "metadata": {},
   "source": [
    "Critère 1 : Quantité de données\n",
    "Critère 2 : structure des données (ici données structurées)\n",
    "Critère 3 : Normalité des données (car il y a des modèles paramétriques et non paramétriques)\n",
    "- paramétrique : se base sur une fonction avec un nombre de paramètres fini et définis à l'avance\n",
    "- non paramétrique : se base sur une fonction avec un nombre de paramètres infini et inconnus à l'avance\n",
    "Les modèles paramétriques fonctionnent très bien sur des jeux de données qui suivent des lois de probabilités normales\n",
    "Critère 4 : Variables qualitatives / quantitatives\n"
   ]
  },
  {
   "cell_type": "code",
   "execution_count": 24,
   "metadata": {},
   "outputs": [],
   "source": [
    "X = np.array(df[\"runtime\"])\n",
    "Y = np.array(df[\"rate\"])"
   ]
  },
  {
   "cell_type": "code",
   "execution_count": 25,
   "metadata": {},
   "outputs": [
    {
     "data": {
      "text/plain": [
       "<matplotlib.collections.PathCollection at 0x1a2001db50>"
      ]
     },
     "execution_count": 25,
     "metadata": {},
     "output_type": "execute_result"
    },
    {
     "data": {
      "image/png": "[encoded data removed]",
      "text/plain": [
       "<Figure size 432x288 with 1 Axes>"
      ]
     },
     "metadata": {
      "needs_background": "light"
     },
     "output_type": "display_data"
    }
   ],
   "source": [
    "plt.scatter(X,Y)"
   ]
  },
  {
   "cell_type": "code",
   "execution_count": null,
   "metadata": {},
   "outputs": [],
   "source": []
  },
  {
   "cell_type": "code",
   "execution_count": null,
   "metadata": {},
   "outputs": [],
   "source": []
  }
 ],
 "metadata": {
  "kernelspec": {
   "display_name": "Python 3",
   "language": "python",
   "name": "python3"
  },
  "language_info": {
   "codemirror_mode": {
    "name": "ipython",
    "version": 3
   },
   "file_extension": ".py",
   "mimetype": "text/x-python",
   "name": "python",
   "nbconvert_exporter": "python",
   "pygments_lexer": "ipython3",
   "version": "3.7.6"
  }
 },
 "nbformat": 4,
 "nbformat_minor": 4
}
