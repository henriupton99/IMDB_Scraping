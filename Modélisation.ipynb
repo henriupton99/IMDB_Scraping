{
 "cells": [
  {
   "cell_type": "markdown",
   "metadata": {},
   "source": [
    "# Modélisation"
   ]
  },
  {
   "cell_type": "markdown",
   "metadata": {},
   "source": [
    "### 0 - importation des modules "
   ]
  },
  {
   "cell_type": "code",
   "execution_count": 9,
   "metadata": {},
   "outputs": [],
   "source": [
    "# Module pandas pour manipuler le dataframe ensuite constitué :\n",
    "import pandas as pd\n",
    "\n",
    "# Module numpy pour manipuler essentiellement des arrays :\n",
    "import numpy as np\n",
    "import matplotlib.pyplot as plt\n",
    "\n",
    "# Module scikitlearn pour la modélisation : \n",
    "import sklearn"
   ]
  },
  {
   "cell_type": "markdown",
   "metadata": {},
   "source": [
    "### 1 - Sélection du modèle"
   ]
  },
  {
   "cell_type": "markdown",
   "metadata": {},
   "source": [
    "Avant de se lancer dans les étapes de machine learning, il est important de bien comprendre ce que l'on souhaite prédire, avec quelles variables, quelles sont les types de toutes ces variables, afin de comprendre quelle sera le modèle le plus adapté à notre jeu de données."
   ]
  },
  {
   "cell_type": "markdown",
   "metadata": {},
   "source": [
    "On peut commencer par importer à nouveau notre jeu de données :"
   ]
  },
  {
   "cell_type": "code",
   "execution_count": 6,
   "metadata": {},
   "outputs": [],
   "source": [
    "df = pd.read_csv(\"data/data.csv\", sep = \"\\t\")"
   ]
  },
  {
   "cell_type": "code",
   "execution_count": 8,
   "metadata": {},
   "outputs": [
    {
     "data": {
      "text/html": [
       "<div>\n",
       "<style scoped>\n",
       "    .dataframe tbody tr th:only-of-type {\n",
       "        vertical-align: middle;\n",
       "    }\n",
       "\n",
       "    .dataframe tbody tr th {\n",
       "        vertical-align: top;\n",
       "    }\n",
       "\n",
       "    .dataframe thead th {\n",
       "        text-align: right;\n",
       "    }\n",
       "</style>\n",
       "<table border=\"1\" class=\"dataframe\">\n",
       "  <thead>\n",
       "    <tr style=\"text-align: right;\">\n",
       "      <th></th>\n",
       "      <th>tconst</th>\n",
       "      <th>title</th>\n",
       "      <th>year</th>\n",
       "      <th>runtime</th>\n",
       "      <th>genres</th>\n",
       "      <th>metascore</th>\n",
       "      <th>rate</th>\n",
       "      <th>votes</th>\n",
       "      <th>certificate</th>\n",
       "      <th>director</th>\n",
       "      <th>casting</th>\n",
       "    </tr>\n",
       "  </thead>\n",
       "  <tbody>\n",
       "    <tr>\n",
       "      <th>0</th>\n",
       "      <td>['tt13143964']</td>\n",
       "      <td>Borat: Subsequent Moviefilm</td>\n",
       "      <td>2020</td>\n",
       "      <td>95</td>\n",
       "      <td>Comedy</td>\n",
       "      <td>68.0</td>\n",
       "      <td>7.0</td>\n",
       "      <td>50,191</td>\n",
       "      <td>18</td>\n",
       "      <td>Jason Woliner</td>\n",
       "      <td>['Sacha Baron Cohen', 'Maria Bakalova', 'Tom H...</td>\n",
       "    </tr>\n",
       "    <tr>\n",
       "      <th>1</th>\n",
       "      <td>['tt1070874']</td>\n",
       "      <td>Les Sept de Chicago</td>\n",
       "      <td>2020</td>\n",
       "      <td>129</td>\n",
       "      <td>Drama, History, Thriller</td>\n",
       "      <td>76.0</td>\n",
       "      <td>7.9</td>\n",
       "      <td>37,295</td>\n",
       "      <td>16</td>\n",
       "      <td>Aaron Sorkin</td>\n",
       "      <td>['Eddie Redmayne', 'Alex Sharp', 'Sacha Baron ...</td>\n",
       "    </tr>\n",
       "    <tr>\n",
       "      <th>2</th>\n",
       "      <td>['tt2235695']</td>\n",
       "      <td>Rebecca</td>\n",
       "      <td>2020</td>\n",
       "      <td>121</td>\n",
       "      <td>Drama, Mystery, Romance</td>\n",
       "      <td>46.0</td>\n",
       "      <td>6.0</td>\n",
       "      <td>11,829</td>\n",
       "      <td>13</td>\n",
       "      <td>Ben Wheatley</td>\n",
       "      <td>['Lily James', 'Armie Hammer', 'Kristin Scott ...</td>\n",
       "    </tr>\n",
       "    <tr>\n",
       "      <th>3</th>\n",
       "      <td>['tt10682266']</td>\n",
       "      <td>Hubie Halloween</td>\n",
       "      <td>2020</td>\n",
       "      <td>102</td>\n",
       "      <td>Comedy, Fantasy, Mystery</td>\n",
       "      <td>53.0</td>\n",
       "      <td>5.2</td>\n",
       "      <td>27,526</td>\n",
       "      <td>7</td>\n",
       "      <td>Steven Brill</td>\n",
       "      <td>['Adam Sandler', 'Kevin James', 'Julie Bowen',...</td>\n",
       "    </tr>\n",
       "    <tr>\n",
       "      <th>4</th>\n",
       "      <td>['tt2222042']</td>\n",
       "      <td>Love and Monsters</td>\n",
       "      <td>2020</td>\n",
       "      <td>109</td>\n",
       "      <td>Action, Adventure, Comedy</td>\n",
       "      <td>59.0</td>\n",
       "      <td>7.1</td>\n",
       "      <td>10,780</td>\n",
       "      <td>PG-13</td>\n",
       "      <td>Michael Matthews</td>\n",
       "      <td>[\"Dylan O'Brien\", 'Jessica Henwick', 'Michael ...</td>\n",
       "    </tr>\n",
       "  </tbody>\n",
       "</table>\n",
       "</div>"
      ],
      "text/plain": [
       "           tconst                        title  year runtime  \\\n",
       "0  ['tt13143964']  Borat: Subsequent Moviefilm  2020      95   \n",
       "1   ['tt1070874']          Les Sept de Chicago  2020     129   \n",
       "2   ['tt2235695']                      Rebecca  2020     121   \n",
       "3  ['tt10682266']              Hubie Halloween  2020     102   \n",
       "4   ['tt2222042']            Love and Monsters  2020     109   \n",
       "\n",
       "                                  genres  metascore  rate   votes certificate  \\\n",
       "0                     Comedy                   68.0   7.0  50,191          18   \n",
       "1   Drama, History, Thriller                   76.0   7.9  37,295          16   \n",
       "2    Drama, Mystery, Romance                   46.0   6.0  11,829          13   \n",
       "3   Comedy, Fantasy, Mystery                   53.0   5.2  27,526           7   \n",
       "4  Action, Adventure, Comedy                   59.0   7.1  10,780       PG-13   \n",
       "\n",
       "           director                                            casting  \n",
       "0     Jason Woliner  ['Sacha Baron Cohen', 'Maria Bakalova', 'Tom H...  \n",
       "1      Aaron Sorkin  ['Eddie Redmayne', 'Alex Sharp', 'Sacha Baron ...  \n",
       "2      Ben Wheatley  ['Lily James', 'Armie Hammer', 'Kristin Scott ...  \n",
       "3      Steven Brill  ['Adam Sandler', 'Kevin James', 'Julie Bowen',...  \n",
       "4  Michael Matthews  [\"Dylan O'Brien\", 'Jessica Henwick', 'Michael ...  "
      ]
     },
     "execution_count": 8,
     "metadata": {},
     "output_type": "execute_result"
    }
   ],
   "source": [
    "df.head()"
   ]
  },
  {
   "cell_type": "markdown",
   "metadata": {},
   "source": [
    "Nous souhaitons prédire la note (spectateurs) d'un film : il s'agit d'une variable cardinale, continue sur le segment [0,10].\n",
    "Pour prédire cette note, nous allons utiliser différentes variables : \n",
    "- l'année de sortie du film (cardinale discrète)\n",
    "- la durée du film (cardinale discrète)\n",
    "- le genre du film (qualitative)\n",
    "- le réalisateur (qualitative)\n",
    "- (ajouter les autres)"
   ]
  },
  {
   "cell_type": "markdown",
   "metadata": {},
   "source": [
    "Critère 1 : Quantité de données\n",
    "Critère 2 : structure des données (ici données structurées)\n",
    "Critère 3 : Normalité des données (car il y a des modèles paramétriques et non paramétriques)\n",
    "- paramétrique : se base sur une fonction avec un nombre de paramètres fini et définis à l'avance\n",
    "- non paramétrique : se base sur une fonction avec un nombre de paramètres infini et inconnus à l'avance\n",
    "Les modèles paramétriques fonctionnent très bien sur des jeux de données qui suivent des lois de probabilités normales\n",
    "Critère 4 : Variables qualitatives / quantitatives\n"
   ]
  },
  {
   "cell_type": "markdown",
   "metadata": {},
   "source": []
  },
  {
   "cell_type": "code",
   "execution_count": null,
   "metadata": {},
   "outputs": [],
   "source": []
  },
  {
   "cell_type": "code",
   "execution_count": null,
   "metadata": {},
   "outputs": [],
   "source": []
  },
  {
   "cell_type": "code",
   "execution_count": null,
   "metadata": {},
   "outputs": [],
   "source": []
  }
 ],
 "metadata": {
  "kernelspec": {
   "display_name": "Python 3",
   "language": "python",
   "name": "python3"
  },
  "language_info": {
   "codemirror_mode": {
    "name": "ipython",
    "version": 3
   },
   "file_extension": ".py",
   "mimetype": "text/x-python",
   "name": "python",
   "nbconvert_exporter": "python",
   "pygments_lexer": "ipython3",
   "version": "3.7.6"
  }
 },
 "nbformat": 4,
 "nbformat_minor": 4
}
